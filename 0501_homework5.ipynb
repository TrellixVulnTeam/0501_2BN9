{
 "cells": [
  {
   "cell_type": "code",
   "execution_count": 1,
   "metadata": {},
   "outputs": [
    {
     "name": "stdout",
     "output_type": "stream",
     "text": [
      "輸入第一個數字:8\n",
      "輸入第二個數字:4\n",
      "輸入一個符號:/\n",
      "8 / 4 = 2.0\n"
     ]
    }
   ],
   "source": [
    "def add(arg1,arg2):\n",
    "    print(arg1,\"+\",arg2,\"=\",arg1+arg2)\n",
    "    \n",
    "def sub(arg1,arg2):\n",
    "    print(arg1,\"-\",arg2,\"=\",arg1-arg2)\n",
    "    \n",
    "def multi(arg1,arg2):\n",
    "    print(arg1,\"*\",arg2,\"=\",arg1*arg2)\n",
    "\n",
    "def div(arg1,arg2):\n",
    "    print(arg1,\"/\",arg2,\"=\",arg1/arg2)\n",
    "    \n",
    "x=eval(input(\"輸入第一個數字:\"))\n",
    "y=eval(input(\"輸入第二個數字:\"))\n",
    "symbol=input(\"輸入一個符號:\")\n",
    "if symbol == \"+\":\n",
    "    add(x,y)\n",
    "elif symbol == \"-\":\n",
    "    sub(x,y)\n",
    "elif symbol == \"*\":\n",
    "    multi(x,y)\n",
    "elif symbol == \"/\":\n",
    "    div(x,y)\n",
    "else:\n",
    "    print(\"錯誤符號\")\n",
    "#homework5"
   ]
  },
  {
   "cell_type": "code",
   "execution_count": null,
   "metadata": {},
   "outputs": [],
   "source": []
  }
 ],
 "metadata": {
  "kernelspec": {
   "display_name": "Python 3",
   "language": "python",
   "name": "python3"
  },
  "language_info": {
   "codemirror_mode": {
    "name": "ipython",
    "version": 3
   },
   "file_extension": ".py",
   "mimetype": "text/x-python",
   "name": "python",
   "nbconvert_exporter": "python",
   "pygments_lexer": "ipython3",
   "version": "3.7.3"
  }
 },
 "nbformat": 4,
 "nbformat_minor": 2
}
